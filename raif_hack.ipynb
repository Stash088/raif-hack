{
  "nbformat": 4,
  "nbformat_minor": 0,
  "metadata": {
    "colab": {
      "provenance": []
    },
    "kernelspec": {
      "name": "python3",
      "display_name": "Python 3"
    },
    "language_info": {
      "name": "python"
    }
  },
  "cells": [
    {
      "cell_type": "code",
      "metadata": {
        "colab": {
          "base_uri": "https://localhost:8080/"
        },
        "id": "nYpZLmwaE8ZI",
        "outputId": "484a8a52-59eb-4a2f-b981-c86c20104b12"
      },
      "source": [
        "from google.colab import drive\n",
        "drive.mount('/content/drive')"
      ],
      "execution_count": null,
      "outputs": [
        {
          "output_type": "stream",
          "name": "stdout",
          "text": [
            "Drive already mounted at /content/drive; to attempt to forcibly remount, call drive.mount(\"/content/drive\", force_remount=True).\n"
          ]
        }
      ]
    },
    {
      "cell_type": "code",
      "metadata": {
        "id": "-P8b_SgCRqPX"
      },
      "source": [
        "import pandas as pd\n",
        "import numpy as np\n",
        "import seaborn  as sns\n",
        "from matplotlib import pyplot as plt"
      ],
      "execution_count": null,
      "outputs": []
    },
    {
      "cell_type": "code",
      "metadata": {
        "id": "KdsGAW0N0d4T"
      },
      "source": [
        "!pip install catboost"
      ],
      "execution_count": null,
      "outputs": []
    },
    {
      "cell_type": "code",
      "metadata": {
        "id": "sqDHnnFaSKH2",
        "colab": {
          "base_uri": "https://localhost:8080/"
        },
        "outputId": "3b4dbea3-08c1-41d5-e50f-b46688f1d9bd"
      },
      "source": [
        "train = pd.read_csv('/content/drive/MyDrive/data/train.csv')\n",
        "test = pd.read_csv('/content/drive/MyDrive/data/test.csv')\n",
        "sub = pd.read_csv('/content/drive/MyDrive/data/test_submission.csv')"
      ],
      "execution_count": null,
      "outputs": [
        {
          "output_type": "stream",
          "name": "stderr",
          "text": [
            "/usr/local/lib/python3.7/dist-packages/IPython/core/interactiveshell.py:2718: DtypeWarning: Columns (1) have mixed types.Specify dtype option on import or set low_memory=False.\n",
            "  interactivity=interactivity, compiler=compiler, result=result)\n"
          ]
        }
      ]
    },
    {
      "cell_type": "code",
      "metadata": {
        "id": "IAA4qY8MOHgZ"
      },
      "source": [
        "train = train.drop(columns='street' , axis = 1)\n",
        "train = train.drop(columns='id' , axis = 1)\n",
        "test = test.drop(columns='street' , axis = 1)"
      ],
      "execution_count": null,
      "outputs": []
    },
    {
      "cell_type": "code",
      "metadata": {
        "id": "4NHzNPzjP7zf"
      },
      "source": [
        "train['date'] = pd.to_datetime(train['date'])\n",
        "test['date'] = pd.to_datetime(test['date'])"
      ],
      "execution_count": null,
      "outputs": []
    },
    {
      "cell_type": "code",
      "metadata": {
        "id": "XymX0W88STQ8"
      },
      "source": [
        "train.head()"
      ],
      "execution_count": null,
      "outputs": []
    },
    {
      "cell_type": "code",
      "metadata": {
        "id": "5OM4-Gi_r6rp"
      },
      "source": [
        "train.info()"
      ],
      "execution_count": null,
      "outputs": []
    },
    {
      "cell_type": "code",
      "metadata": {
        "id": "WHAtL1JSbj5I"
      },
      "source": [
        "from sklearn.preprocessing import StandardScaler , LabelEncoder , OneHotEncoder"
      ],
      "execution_count": null,
      "outputs": []
    },
    {
      "cell_type": "markdown",
      "metadata": {
        "id": "7OOuOrsCvc0y"
      },
      "source": [
        "## Разметка данных этажей"
      ]
    },
    {
      "cell_type": "code",
      "metadata": {
        "id": "X2LrDg_poh0V"
      },
      "source": [
        "all = { 'подвал, 1' : 1, 'подвал' : 0 ,'цоколь, 1' : 1 , '1,2,антресоль' : 2 , 'цоколь' : 0 , 'тех.этаж (6)' : 6 ,\n",
        "       'Подвал' : 0 , 'Цоколь' : 0 , 'фактически на уровне 1 этажа' : 1 , '1,2,3' : 3 , '1, подвал' : 1 ,'1,2,3,4' : 4,\n",
        "       '1,2' : 2 , '1,2,3,4,5' : 5 , '5 , мансарда ' : 5 , '1-й, подвал' : 1 , '1, подвал, антресоль' : 1 , 'мезонин' : 0,\n",
        "       'подвал, 1-3' : 3 , '1 (Цокольный этаж)' : 1 , '3 , Мансарда (4 эт)' : 3 , 'подвал,1' : 1 , '1 , антресоль' : 1,\n",
        "       '1-3' : 3 , 'мансарда (4эт)' : 4 , '1, 2.': 2 , 'подвал , 1 ' : 1 , '1, 2' : 2 ,\n",
        "       '3, Мансарда (4эт)' : 3, '5, мансарда' : 5 , '1, антресоль' : 1, 'подвал, 1,2,3' : 3 ,\n",
        "         '1 + подвал (без отделки)' : 1 , 'мансарда ' : 2 , '2,3' : 3 , '4, 5' : 5, '1-й, 2-й' : 2,\n",
        "         '1 этаж, подвал' : 1 , '1, цоколь' : 1 , 'подвал, 1-7, техэтаж' : 7 ,'3 (антресоль)': 3,\n",
        "         '1, 2, 3' : 3 , 'Цоколь, 1.2(мансарда)' : 2 , 'подвал, 3. 4 этаж' : 4 , 'подвал, 1-4 этаж' : 4,\n",
        "         'подва, 1.2 этаж' : 2 , '2, 3' : 3 , '-1' : 0 , '1.2' : 2 , '7,8' : 8 , '1 этаж' : 1, '1-й' : 1,\n",
        "         '3 этаж' : 3 , '4 этаж' : 4 , '5 этаж' : 5 ,'подвал,1,2,3,4,5' : 5 , 'подвал, цоколь, 1 этаж' :1,\n",
        "         '3, мансарда' : 3 , 'Цоколь, 1,2(мансарда)' : 2 , '3, Мансарда (4 эт)' : 3 , 'мансарда' : 0,\n",
        "       '-1.0' : 0 , '-2.0' : 0 , ' 1, 2, Антресоль'  : 2 , '3 этаж, мансарда (4 этаж)' : 3 , \n",
        "       'цокольный' : 0 , 'подвал, 1 и 4 этаж' : 4 , '5(мансарда)' : 5 , 'технический этаж,5,6' : 6,\n",
        "       ' 1-2, подвальный' : 2 , '1, 2, 3, мансардный' : 3 , 'подвал, 1, 2, 3' : 3 , \n",
        "       '1,2,3, антресоль, технический этаж' : 3 , '3, 4' : 4 , '1-3 этажи, цоколь (188,4 кв.м), подвал (104 кв.м)' : 3,\n",
        "       '1,2,3,4, подвал' : 4 , '2-й' : 2 , '1, 2 этаж'  : 2 , 'подвал, 1, 2' : 2 , '1-7' : 7 ,  '1 (по док-м цоколь)' : 1,\n",
        "       '1,2,подвал ' :  2 , 'подвал, 2' : 2 , 'подвал,1,2,3' : 3 , 'подвал,1,2,3' : 3 , '2, 3, 4, тех.этаж' : 4 ,\n",
        "       'цокольный, 1,2' : 2 , 'Техническое подполье' : 0 , 'цоколь, 1, 2,3,4,5,6' : 6 , '1,2,3 этаж, подвал' : 3\n",
        "}"
      ],
      "execution_count": null,
      "outputs": []
    },
    {
      "cell_type": "code",
      "metadata": {
        "id": "7hy2e0W6rpEQ"
      },
      "source": [
        "train['floor'] = train['floor'].replace(all)\n",
        "test['floor'] = test['floor'].replace(all)"
      ],
      "execution_count": null,
      "outputs": []
    },
    {
      "cell_type": "code",
      "metadata": {
        "colab": {
          "base_uri": "https://localhost:8080/"
        },
        "id": "poCCuQcyRGhr",
        "outputId": "04dcad2c-5b97-47a0-c519-e5c8cea669fc"
      },
      "source": [
        "test['floor'].unique()"
      ],
      "execution_count": null,
      "outputs": [
        {
          "output_type": "execute_result",
          "data": {
            "text/plain": [
              "array(['1.0', 0, nan, 3, '2', '5.0', '4', '1', '5', 2, '2.0', '4.0', 4,\n",
              "       '3', '3.0', '11.0', '9.0', '12.0', '0.0', 6, '6', '6.0', '13', 1,\n",
              "       '7', '1,2 ', '14', '9', '8', '3,4', '10.0', 5, '8.0', '7.0', 7,\n",
              "       '10', '13.0'], dtype=object)"
            ]
          },
          "metadata": {},
          "execution_count": 115
        }
      ]
    },
    {
      "cell_type": "code",
      "metadata": {
        "id": "95g6GvZFxN-V"
      },
      "source": [
        "corr = train.corr()\n",
        "corr[abs(corr['per_square_meter_price']) > 0.1]['per_square_meter_price']"
      ],
      "execution_count": null,
      "outputs": []
    },
    {
      "cell_type": "code",
      "metadata": {
        "id": "aedcghGcfBvT"
      },
      "source": [
        "from sklearn.preprocessing import LabelEncoder"
      ],
      "execution_count": null,
      "outputs": []
    },
    {
      "cell_type": "code",
      "metadata": {
        "id": "SYMS-rjefGGl"
      },
      "source": [
        "le = LabelEncoder()\n",
        "train['city'] = le.fit_transform(train['city'])\n",
        "test['city'] = oh.fit_transform(test['city'])"
      ],
      "execution_count": null,
      "outputs": []
    },
    {
      "cell_type": "code",
      "metadata": {
        "colab": {
          "base_uri": "https://localhost:8080/",
          "height": 309
        },
        "id": "BH2J3KbhOf9J",
        "outputId": "a444558d-5cd1-4310-e509-7601e1f1f255"
      },
      "source": [
        "train.head()"
      ],
      "execution_count": null,
      "outputs": [
        {
          "output_type": "execute_result",
          "data": {
            "text/html": [
              "<div>\n",
              "<style scoped>\n",
              "    .dataframe tbody tr th:only-of-type {\n",
              "        vertical-align: middle;\n",
              "    }\n",
              "\n",
              "    .dataframe tbody tr th {\n",
              "        vertical-align: top;\n",
              "    }\n",
              "\n",
              "    .dataframe thead th {\n",
              "        text-align: right;\n",
              "    }\n",
              "</style>\n",
              "<table border=\"1\" class=\"dataframe\">\n",
              "  <thead>\n",
              "    <tr style=\"text-align: right;\">\n",
              "      <th></th>\n",
              "      <th>city</th>\n",
              "      <th>floor</th>\n",
              "      <th>id</th>\n",
              "      <th>lat</th>\n",
              "      <th>lng</th>\n",
              "      <th>osm_amenity_points_in_0.001</th>\n",
              "      <th>osm_amenity_points_in_0.005</th>\n",
              "      <th>osm_amenity_points_in_0.0075</th>\n",
              "      <th>osm_amenity_points_in_0.01</th>\n",
              "      <th>osm_building_points_in_0.001</th>\n",
              "      <th>osm_building_points_in_0.005</th>\n",
              "      <th>osm_building_points_in_0.0075</th>\n",
              "      <th>osm_building_points_in_0.01</th>\n",
              "      <th>osm_catering_points_in_0.001</th>\n",
              "      <th>osm_catering_points_in_0.005</th>\n",
              "      <th>osm_catering_points_in_0.0075</th>\n",
              "      <th>osm_catering_points_in_0.01</th>\n",
              "      <th>osm_city_closest_dist</th>\n",
              "      <th>osm_city_nearest_name</th>\n",
              "      <th>osm_city_nearest_population</th>\n",
              "      <th>osm_crossing_closest_dist</th>\n",
              "      <th>osm_crossing_points_in_0.001</th>\n",
              "      <th>osm_crossing_points_in_0.005</th>\n",
              "      <th>osm_crossing_points_in_0.0075</th>\n",
              "      <th>osm_crossing_points_in_0.01</th>\n",
              "      <th>osm_culture_points_in_0.001</th>\n",
              "      <th>osm_culture_points_in_0.005</th>\n",
              "      <th>osm_culture_points_in_0.0075</th>\n",
              "      <th>osm_culture_points_in_0.01</th>\n",
              "      <th>osm_finance_points_in_0.001</th>\n",
              "      <th>osm_finance_points_in_0.005</th>\n",
              "      <th>osm_finance_points_in_0.0075</th>\n",
              "      <th>osm_finance_points_in_0.01</th>\n",
              "      <th>osm_healthcare_points_in_0.005</th>\n",
              "      <th>osm_healthcare_points_in_0.0075</th>\n",
              "      <th>osm_healthcare_points_in_0.01</th>\n",
              "      <th>osm_historic_points_in_0.005</th>\n",
              "      <th>osm_historic_points_in_0.0075</th>\n",
              "      <th>osm_historic_points_in_0.01</th>\n",
              "      <th>osm_hotels_points_in_0.005</th>\n",
              "      <th>osm_hotels_points_in_0.0075</th>\n",
              "      <th>osm_hotels_points_in_0.01</th>\n",
              "      <th>osm_leisure_points_in_0.005</th>\n",
              "      <th>osm_leisure_points_in_0.0075</th>\n",
              "      <th>osm_leisure_points_in_0.01</th>\n",
              "      <th>osm_offices_points_in_0.001</th>\n",
              "      <th>osm_offices_points_in_0.005</th>\n",
              "      <th>osm_offices_points_in_0.0075</th>\n",
              "      <th>osm_offices_points_in_0.01</th>\n",
              "      <th>osm_shops_points_in_0.001</th>\n",
              "      <th>osm_shops_points_in_0.005</th>\n",
              "      <th>osm_shops_points_in_0.0075</th>\n",
              "      <th>osm_shops_points_in_0.01</th>\n",
              "      <th>osm_subway_closest_dist</th>\n",
              "      <th>osm_train_stop_closest_dist</th>\n",
              "      <th>osm_train_stop_points_in_0.005</th>\n",
              "      <th>osm_train_stop_points_in_0.0075</th>\n",
              "      <th>osm_train_stop_points_in_0.01</th>\n",
              "      <th>osm_transport_stop_closest_dist</th>\n",
              "      <th>osm_transport_stop_points_in_0.005</th>\n",
              "      <th>osm_transport_stop_points_in_0.0075</th>\n",
              "      <th>osm_transport_stop_points_in_0.01</th>\n",
              "      <th>per_square_meter_price</th>\n",
              "      <th>reform_count_of_houses_1000</th>\n",
              "      <th>reform_count_of_houses_500</th>\n",
              "      <th>reform_house_population_1000</th>\n",
              "      <th>reform_house_population_500</th>\n",
              "      <th>reform_mean_floor_count_1000</th>\n",
              "      <th>reform_mean_floor_count_500</th>\n",
              "      <th>reform_mean_year_building_1000</th>\n",
              "      <th>reform_mean_year_building_500</th>\n",
              "      <th>region</th>\n",
              "      <th>total_square</th>\n",
              "      <th>street</th>\n",
              "      <th>date</th>\n",
              "      <th>realty_type</th>\n",
              "      <th>price_type</th>\n",
              "    </tr>\n",
              "  </thead>\n",
              "  <tbody>\n",
              "    <tr>\n",
              "      <th>0</th>\n",
              "      <td>Пермь</td>\n",
              "      <td>NaN</td>\n",
              "      <td>COL_0</td>\n",
              "      <td>57.998207</td>\n",
              "      <td>56.292797</td>\n",
              "      <td>4</td>\n",
              "      <td>19</td>\n",
              "      <td>35</td>\n",
              "      <td>52</td>\n",
              "      <td>0</td>\n",
              "      <td>0</td>\n",
              "      <td>0</td>\n",
              "      <td>0</td>\n",
              "      <td>0</td>\n",
              "      <td>2</td>\n",
              "      <td>4</td>\n",
              "      <td>6</td>\n",
              "      <td>3.293470</td>\n",
              "      <td>Пермь</td>\n",
              "      <td>1055397.0</td>\n",
              "      <td>0.027732</td>\n",
              "      <td>3</td>\n",
              "      <td>6</td>\n",
              "      <td>17</td>\n",
              "      <td>34</td>\n",
              "      <td>0</td>\n",
              "      <td>0</td>\n",
              "      <td>1</td>\n",
              "      <td>1</td>\n",
              "      <td>0</td>\n",
              "      <td>0</td>\n",
              "      <td>1</td>\n",
              "      <td>2</td>\n",
              "      <td>2</td>\n",
              "      <td>3</td>\n",
              "      <td>4</td>\n",
              "      <td>0</td>\n",
              "      <td>0</td>\n",
              "      <td>1</td>\n",
              "      <td>0</td>\n",
              "      <td>0</td>\n",
              "      <td>0</td>\n",
              "      <td>0</td>\n",
              "      <td>1</td>\n",
              "      <td>2</td>\n",
              "      <td>0</td>\n",
              "      <td>1</td>\n",
              "      <td>2</td>\n",
              "      <td>4</td>\n",
              "      <td>4</td>\n",
              "      <td>11</td>\n",
              "      <td>20</td>\n",
              "      <td>28</td>\n",
              "      <td>269.024986</td>\n",
              "      <td>3.368385</td>\n",
              "      <td>0</td>\n",
              "      <td>0</td>\n",
              "      <td>0</td>\n",
              "      <td>0.002864</td>\n",
              "      <td>4</td>\n",
              "      <td>13</td>\n",
              "      <td>21</td>\n",
              "      <td>139937.500000</td>\n",
              "      <td>136</td>\n",
              "      <td>49</td>\n",
              "      <td>2503.0</td>\n",
              "      <td>765.0</td>\n",
              "      <td>5.762963</td>\n",
              "      <td>5.530612</td>\n",
              "      <td>1964.118519</td>\n",
              "      <td>1960.959184</td>\n",
              "      <td>Пермский край</td>\n",
              "      <td>32.0</td>\n",
              "      <td>S27289</td>\n",
              "      <td>2020-01-05</td>\n",
              "      <td>10</td>\n",
              "      <td>0</td>\n",
              "    </tr>\n",
              "    <tr>\n",
              "      <th>1</th>\n",
              "      <td>Шатура</td>\n",
              "      <td>NaN</td>\n",
              "      <td>COL_1</td>\n",
              "      <td>55.574284</td>\n",
              "      <td>39.543835</td>\n",
              "      <td>3</td>\n",
              "      <td>24</td>\n",
              "      <td>37</td>\n",
              "      <td>59</td>\n",
              "      <td>0</td>\n",
              "      <td>0</td>\n",
              "      <td>0</td>\n",
              "      <td>1</td>\n",
              "      <td>0</td>\n",
              "      <td>2</td>\n",
              "      <td>2</td>\n",
              "      <td>6</td>\n",
              "      <td>43.950989</td>\n",
              "      <td>Орехово-Зуево</td>\n",
              "      <td>120184.0</td>\n",
              "      <td>0.089441</td>\n",
              "      <td>0</td>\n",
              "      <td>31</td>\n",
              "      <td>50</td>\n",
              "      <td>57</td>\n",
              "      <td>0</td>\n",
              "      <td>1</td>\n",
              "      <td>2</td>\n",
              "      <td>3</td>\n",
              "      <td>0</td>\n",
              "      <td>0</td>\n",
              "      <td>1</td>\n",
              "      <td>2</td>\n",
              "      <td>1</td>\n",
              "      <td>1</td>\n",
              "      <td>3</td>\n",
              "      <td>2</td>\n",
              "      <td>4</td>\n",
              "      <td>6</td>\n",
              "      <td>2</td>\n",
              "      <td>2</td>\n",
              "      <td>2</td>\n",
              "      <td>1</td>\n",
              "      <td>1</td>\n",
              "      <td>2</td>\n",
              "      <td>0</td>\n",
              "      <td>1</td>\n",
              "      <td>2</td>\n",
              "      <td>3</td>\n",
              "      <td>1</td>\n",
              "      <td>12</td>\n",
              "      <td>20</td>\n",
              "      <td>29</td>\n",
              "      <td>102.455451</td>\n",
              "      <td>1.476600</td>\n",
              "      <td>0</td>\n",
              "      <td>0</td>\n",
              "      <td>0</td>\n",
              "      <td>0.154661</td>\n",
              "      <td>4</td>\n",
              "      <td>10</td>\n",
              "      <td>11</td>\n",
              "      <td>60410.714286</td>\n",
              "      <td>146</td>\n",
              "      <td>37</td>\n",
              "      <td>1336.0</td>\n",
              "      <td>514.0</td>\n",
              "      <td>2.894366</td>\n",
              "      <td>3.527778</td>\n",
              "      <td>1952.321678</td>\n",
              "      <td>1957.222222</td>\n",
              "      <td>Московская область</td>\n",
              "      <td>280.0</td>\n",
              "      <td>S17052</td>\n",
              "      <td>2020-01-05</td>\n",
              "      <td>10</td>\n",
              "      <td>0</td>\n",
              "    </tr>\n",
              "    <tr>\n",
              "      <th>2</th>\n",
              "      <td>Ярославль</td>\n",
              "      <td>NaN</td>\n",
              "      <td>COL_2</td>\n",
              "      <td>57.619140</td>\n",
              "      <td>39.850525</td>\n",
              "      <td>1</td>\n",
              "      <td>30</td>\n",
              "      <td>67</td>\n",
              "      <td>128</td>\n",
              "      <td>0</td>\n",
              "      <td>0</td>\n",
              "      <td>1</td>\n",
              "      <td>1</td>\n",
              "      <td>0</td>\n",
              "      <td>3</td>\n",
              "      <td>6</td>\n",
              "      <td>11</td>\n",
              "      <td>2.676293</td>\n",
              "      <td>Ярославль</td>\n",
              "      <td>603961.0</td>\n",
              "      <td>0.200995</td>\n",
              "      <td>0</td>\n",
              "      <td>15</td>\n",
              "      <td>29</td>\n",
              "      <td>53</td>\n",
              "      <td>0</td>\n",
              "      <td>1</td>\n",
              "      <td>2</td>\n",
              "      <td>2</td>\n",
              "      <td>0</td>\n",
              "      <td>0</td>\n",
              "      <td>5</td>\n",
              "      <td>9</td>\n",
              "      <td>0</td>\n",
              "      <td>1</td>\n",
              "      <td>3</td>\n",
              "      <td>0</td>\n",
              "      <td>0</td>\n",
              "      <td>0</td>\n",
              "      <td>0</td>\n",
              "      <td>0</td>\n",
              "      <td>1</td>\n",
              "      <td>2</td>\n",
              "      <td>3</td>\n",
              "      <td>6</td>\n",
              "      <td>0</td>\n",
              "      <td>1</td>\n",
              "      <td>6</td>\n",
              "      <td>9</td>\n",
              "      <td>1</td>\n",
              "      <td>16</td>\n",
              "      <td>37</td>\n",
              "      <td>80</td>\n",
              "      <td>243.361937</td>\n",
              "      <td>1.455127</td>\n",
              "      <td>0</td>\n",
              "      <td>0</td>\n",
              "      <td>0</td>\n",
              "      <td>0.118275</td>\n",
              "      <td>9</td>\n",
              "      <td>13</td>\n",
              "      <td>21</td>\n",
              "      <td>45164.761264</td>\n",
              "      <td>105</td>\n",
              "      <td>27</td>\n",
              "      <td>1883.0</td>\n",
              "      <td>573.0</td>\n",
              "      <td>6.141414</td>\n",
              "      <td>7.222222</td>\n",
              "      <td>1968.150000</td>\n",
              "      <td>1973.370370</td>\n",
              "      <td>Ярославская область</td>\n",
              "      <td>297.4</td>\n",
              "      <td>S16913</td>\n",
              "      <td>2020-01-05</td>\n",
              "      <td>110</td>\n",
              "      <td>0</td>\n",
              "    </tr>\n",
              "    <tr>\n",
              "      <th>3</th>\n",
              "      <td>Новокузнецк</td>\n",
              "      <td>NaN</td>\n",
              "      <td>COL_3</td>\n",
              "      <td>53.897083</td>\n",
              "      <td>87.108604</td>\n",
              "      <td>0</td>\n",
              "      <td>0</td>\n",
              "      <td>5</td>\n",
              "      <td>21</td>\n",
              "      <td>0</td>\n",
              "      <td>0</td>\n",
              "      <td>0</td>\n",
              "      <td>1</td>\n",
              "      <td>0</td>\n",
              "      <td>0</td>\n",
              "      <td>1</td>\n",
              "      <td>4</td>\n",
              "      <td>15.618563</td>\n",
              "      <td>Новокузнецк</td>\n",
              "      <td>552105.0</td>\n",
              "      <td>0.861400</td>\n",
              "      <td>0</td>\n",
              "      <td>0</td>\n",
              "      <td>0</td>\n",
              "      <td>5</td>\n",
              "      <td>0</td>\n",
              "      <td>0</td>\n",
              "      <td>0</td>\n",
              "      <td>0</td>\n",
              "      <td>0</td>\n",
              "      <td>0</td>\n",
              "      <td>0</td>\n",
              "      <td>1</td>\n",
              "      <td>0</td>\n",
              "      <td>0</td>\n",
              "      <td>3</td>\n",
              "      <td>0</td>\n",
              "      <td>0</td>\n",
              "      <td>1</td>\n",
              "      <td>0</td>\n",
              "      <td>0</td>\n",
              "      <td>0</td>\n",
              "      <td>0</td>\n",
              "      <td>0</td>\n",
              "      <td>1</td>\n",
              "      <td>0</td>\n",
              "      <td>0</td>\n",
              "      <td>0</td>\n",
              "      <td>0</td>\n",
              "      <td>0</td>\n",
              "      <td>0</td>\n",
              "      <td>4</td>\n",
              "      <td>11</td>\n",
              "      <td>295.633502</td>\n",
              "      <td>9.400855</td>\n",
              "      <td>0</td>\n",
              "      <td>0</td>\n",
              "      <td>0</td>\n",
              "      <td>1.036523</td>\n",
              "      <td>0</td>\n",
              "      <td>0</td>\n",
              "      <td>3</td>\n",
              "      <td>28805.263158</td>\n",
              "      <td>75</td>\n",
              "      <td>2</td>\n",
              "      <td>1801.0</td>\n",
              "      <td>54.0</td>\n",
              "      <td>8.581081</td>\n",
              "      <td>9.000000</td>\n",
              "      <td>1992.716216</td>\n",
              "      <td>2014.000000</td>\n",
              "      <td>Кемеровская область</td>\n",
              "      <td>190.0</td>\n",
              "      <td>S10148</td>\n",
              "      <td>2020-01-05</td>\n",
              "      <td>110</td>\n",
              "      <td>0</td>\n",
              "    </tr>\n",
              "    <tr>\n",
              "      <th>4</th>\n",
              "      <td>Москва</td>\n",
              "      <td>NaN</td>\n",
              "      <td>COL_4</td>\n",
              "      <td>55.802590</td>\n",
              "      <td>37.487110</td>\n",
              "      <td>1</td>\n",
              "      <td>23</td>\n",
              "      <td>64</td>\n",
              "      <td>153</td>\n",
              "      <td>0</td>\n",
              "      <td>1</td>\n",
              "      <td>1</td>\n",
              "      <td>1</td>\n",
              "      <td>0</td>\n",
              "      <td>8</td>\n",
              "      <td>14</td>\n",
              "      <td>26</td>\n",
              "      <td>9.995325</td>\n",
              "      <td>Химки</td>\n",
              "      <td>232066.0</td>\n",
              "      <td>0.236744</td>\n",
              "      <td>0</td>\n",
              "      <td>14</td>\n",
              "      <td>40</td>\n",
              "      <td>78</td>\n",
              "      <td>0</td>\n",
              "      <td>0</td>\n",
              "      <td>0</td>\n",
              "      <td>0</td>\n",
              "      <td>0</td>\n",
              "      <td>0</td>\n",
              "      <td>3</td>\n",
              "      <td>9</td>\n",
              "      <td>2</td>\n",
              "      <td>7</td>\n",
              "      <td>14</td>\n",
              "      <td>0</td>\n",
              "      <td>2</td>\n",
              "      <td>2</td>\n",
              "      <td>1</td>\n",
              "      <td>1</td>\n",
              "      <td>3</td>\n",
              "      <td>3</td>\n",
              "      <td>4</td>\n",
              "      <td>9</td>\n",
              "      <td>0</td>\n",
              "      <td>8</td>\n",
              "      <td>8</td>\n",
              "      <td>12</td>\n",
              "      <td>0</td>\n",
              "      <td>8</td>\n",
              "      <td>33</td>\n",
              "      <td>89</td>\n",
              "      <td>1.110429</td>\n",
              "      <td>1.235503</td>\n",
              "      <td>0</td>\n",
              "      <td>0</td>\n",
              "      <td>0</td>\n",
              "      <td>0.235032</td>\n",
              "      <td>10</td>\n",
              "      <td>32</td>\n",
              "      <td>62</td>\n",
              "      <td>13222.591362</td>\n",
              "      <td>144</td>\n",
              "      <td>38</td>\n",
              "      <td>3090.0</td>\n",
              "      <td>619.0</td>\n",
              "      <td>7.263889</td>\n",
              "      <td>5.684211</td>\n",
              "      <td>1963.229167</td>\n",
              "      <td>1960.500000</td>\n",
              "      <td>Москва</td>\n",
              "      <td>60.2</td>\n",
              "      <td>S1338</td>\n",
              "      <td>2020-01-05</td>\n",
              "      <td>10</td>\n",
              "      <td>0</td>\n",
              "    </tr>\n",
              "  </tbody>\n",
              "</table>\n",
              "</div>"
            ],
            "text/plain": [
              "          city floor     id  ...        date  realty_type  price_type\n",
              "0        Пермь   NaN  COL_0  ...  2020-01-05           10           0\n",
              "1       Шатура   NaN  COL_1  ...  2020-01-05           10           0\n",
              "2    Ярославль   NaN  COL_2  ...  2020-01-05          110           0\n",
              "3  Новокузнецк   NaN  COL_3  ...  2020-01-05          110           0\n",
              "4       Москва   NaN  COL_4  ...  2020-01-05           10           0\n",
              "\n",
              "[5 rows x 77 columns]"
            ]
          },
          "metadata": {},
          "execution_count": 55
        }
      ]
    },
    {
      "cell_type": "code",
      "metadata": {
        "id": "MBBpcXwZk1Ci"
      },
      "source": [
        "train['region'] = le.fit_transform(train['region'])\n",
        "test['region'] = le.fit_transform(test['region'])\n",
        "train['osm_city_nearest_name'] = le.fit_transform(train['osm_city_nearest_name'])\n",
        "test['osm_city_nearest_name'] = le.fit_transform(test['osm_city_nearest_name'])"
      ],
      "execution_count": null,
      "outputs": []
    },
    {
      "cell_type": "code",
      "metadata": {
        "id": "GoG4y8UDGcwR"
      },
      "source": [
        "from sklearn.impute import SimpleImputer\n",
        "from sklearn.impute import KNNImputer"
      ],
      "execution_count": null,
      "outputs": []
    },
    {
      "cell_type": "code",
      "metadata": {
        "id": "scZgt21yJVTQ"
      },
      "source": [
        "median = train['floor'].median()\n",
        "train['floor'].fillna(median, inplace=True)"
      ],
      "execution_count": null,
      "outputs": []
    },
    {
      "cell_type": "code",
      "metadata": {
        "colab": {
          "base_uri": "https://localhost:8080/"
        },
        "id": "me_KkoyAGyaR",
        "outputId": "dfcf9128-0064-4ecb-8474-d0fcadcbc447"
      },
      "source": [
        "train.isnull().sum()"
      ],
      "execution_count": null,
      "outputs": [
        {
          "output_type": "execute_result",
          "data": {
            "text/plain": [
              "city            0\n",
              "floor           0\n",
              "id              0\n",
              "lat             0\n",
              "lng             0\n",
              "               ..\n",
              "region          0\n",
              "total_square    0\n",
              "date            0\n",
              "realty_type     0\n",
              "price_type      0\n",
              "Length: 76, dtype: int64"
            ]
          },
          "metadata": {},
          "execution_count": 61
        }
      ]
    },
    {
      "cell_type": "code",
      "metadata": {
        "id": "chMRO8VpHLsP"
      },
      "source": [
        "data_approved = train[train.price_type == 1]\n",
        "data_not_approved = train[train.price_type == 0]"
      ],
      "execution_count": null,
      "outputs": []
    },
    {
      "cell_type": "code",
      "metadata": {
        "id": "xrIgGMFGIT-2"
      },
      "source": [
        "data_approved"
      ],
      "execution_count": null,
      "outputs": []
    },
    {
      "cell_type": "code",
      "metadata": {
        "id": "f6qm47tGO3Qz"
      },
      "source": [
        "X = data_approved.drop(['per_square_meter_price'], axis=1)\n",
        "y = data_approved.per_square_meter_price"
      ],
      "execution_count": null,
      "outputs": []
    },
    {
      "cell_type": "code",
      "metadata": {
        "id": "fYntLAH_miH_"
      },
      "source": [
        "!pip install optuna"
      ],
      "execution_count": null,
      "outputs": []
    },
    {
      "cell_type": "code",
      "metadata": {
        "id": "c5ld0jLqmj5T"
      },
      "source": [
        "import optuna"
      ],
      "execution_count": null,
      "outputs": []
    },
    {
      "cell_type": "code",
      "metadata": {
        "id": "a4n1_1fvwTpW"
      },
      "source": [
        "from sklearn.model_selection import train_test_split\n",
        "from catboost import CatBoostRegressor\n",
        "from xgboost import XGBRegressor\n",
        "from lightgbm import LGBMRegressor\n",
        "from sklearn.metrics import mean_absolute_error"
      ],
      "execution_count": null,
      "outputs": []
    },
    {
      "cell_type": "code",
      "metadata": {
        "id": "X7qJBrki4hNZ"
      },
      "source": [
        "X_train , X_test , y_train , y_test = train_test_split(X , y, test_size = 0.2 , random_state = 42)"
      ],
      "execution_count": null,
      "outputs": []
    },
    {
      "cell_type": "code",
      "metadata": {
        "id": "Fle1FY49PUgx"
      },
      "source": [
        "cat_cols = ['city' , 'region' , 'osm_city_nearest_name']"
      ],
      "execution_count": null,
      "outputs": []
    },
    {
      "cell_type": "code",
      "metadata": {
        "id": "8NuJfzv3mCOx"
      },
      "source": [
        "model = CatBoostRegressor(cat_features= cat_cols)\n",
        "model.fit(X_train,y_train)\n",
        "y_pred = model.predict(X_test)"
      ],
      "execution_count": null,
      "outputs": []
    },
    {
      "cell_type": "code",
      "metadata": {
        "colab": {
          "base_uri": "https://localhost:8080/"
        },
        "id": "1Y24f_ZkmIG4",
        "outputId": "d5b5edbd-6254-4c62-9ece-67c5a04c0056"
      },
      "source": [
        "mean_absolute_error(y_test,y_pred)"
      ],
      "execution_count": null,
      "outputs": [
        {
          "output_type": "execute_result",
          "data": {
            "text/plain": [
              "20586.264471700688"
            ]
          },
          "metadata": {},
          "execution_count": 121
        }
      ]
    },
    {
      "cell_type": "code",
      "metadata": {
        "colab": {
          "base_uri": "https://localhost:8080/"
        },
        "id": "ZUnrR0sxmNcD",
        "outputId": "c492127f-4921-4db6-890c-469043da919c"
      },
      "source": [
        "mean_absolute_error(y_test,y_lgb)"
      ],
      "execution_count": null,
      "outputs": [
        {
          "output_type": "execute_result",
          "data": {
            "text/plain": [
              "31191.83597193549"
            ]
          },
          "metadata": {},
          "execution_count": 40
        }
      ]
    },
    {
      "cell_type": "code",
      "metadata": {
        "id": "WnpkuamIQRg2"
      },
      "source": [],
      "execution_count": null,
      "outputs": []
    },
    {
      "cell_type": "code",
      "metadata": {
        "id": "UPll8qbHvoYq"
      },
      "source": [
        "cat = CatBoostRegressor(**study_cat.best_trial.params)"
      ],
      "execution_count": null,
      "outputs": []
    },
    {
      "cell_type": "code",
      "metadata": {
        "id": "6mlmWsj9O_o-"
      },
      "source": [
        "from sklearn.ensemble import VotingRegressor"
      ],
      "execution_count": null,
      "outputs": []
    },
    {
      "cell_type": "code",
      "metadata": {
        "id": "t3nAhbatQFc9"
      },
      "source": [
        "vot = VotingRegressor(estimators=[ ('cat', cat), ('lgb', lgb)],n_jobs= -1)\n",
        "vot.fit(X_train , y_train)\n",
        "y_vot = vot.predict(X_test)"
      ],
      "execution_count": null,
      "outputs": []
    },
    {
      "cell_type": "code",
      "metadata": {
        "colab": {
          "base_uri": "https://localhost:8080/"
        },
        "id": "swWtD4ZJRFJj",
        "outputId": "ebb4767c-8375-470e-df29-5ccc6f1d925a"
      },
      "source": [
        "vot.score(X_train , y_train) , vot.score(X_test , y_test)"
      ],
      "execution_count": null,
      "outputs": [
        {
          "output_type": "execute_result",
          "data": {
            "text/plain": [
              "(0.8655595088474123, 0.8106428863548287)"
            ]
          },
          "metadata": {},
          "execution_count": 28
        }
      ]
    },
    {
      "cell_type": "code",
      "metadata": {
        "id": "4r25KolYTyQ3"
      },
      "source": [
        "key_cols =  ['id' , 'floor' , 'city' , 'region']"
      ],
      "execution_count": null,
      "outputs": []
    },
    {
      "cell_type": "code",
      "metadata": {
        "id": "Rxaewhj46Chr"
      },
      "source": [
        "y_final = model.predict(test.drop(key_cols,axis = 1))"
      ],
      "execution_count": null,
      "outputs": []
    },
    {
      "cell_type": "code",
      "metadata": {
        "id": "qbPhUjRd8vKa"
      },
      "source": [
        "test['per_square_meter_price'] = pred_test"
      ],
      "execution_count": null,
      "outputs": []
    },
    {
      "cell_type": "code",
      "metadata": {
        "id": "06vCv01q5qn1"
      },
      "source": [
        "test[['id' , 'per_square_meter_price']].to_csv('sub6.csv' , header = True , index = False)"
      ],
      "execution_count": null,
      "outputs": []
    }
  ]
}